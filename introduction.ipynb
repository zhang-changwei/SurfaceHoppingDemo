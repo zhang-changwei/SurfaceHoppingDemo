{
 "cells": [
  {
   "cell_type": "markdown",
   "metadata": {},
   "source": [
    "1. Full quantum simulation\n",
    "\n",
    "First we write down TDSE of the whole system\n",
    "$$\n",
    "i \\hbar \\frac{\\partial}{\\partial t} \\Psi = H \\Psi\n",
    "$$\n",
    "where the hamiltion can be splited into two parts\n",
    "$$\n",
    "H = T_R + H_{el} (r,R)\n",
    "$$\n",
    "The second part is electron part of the hamiltonian and now can be presented by the two level model hamiltonian.\n",
    "\n",
    "While the first part is the nucleus kinetic energy operator $T_R = -\\hbar/(2M) \\cdot \\partial^2/\\partial x^2$\n",
    "\n",
    "In the DVR representation, the 1d space is divided into uniform grid, so the hamiltonian can be writen in a matrix with shape $[ndvr \\times nstate, ndvr \\times nstate]$\n",
    "$$\n",
    "H(x) = \\begin{pmatrix} T_R(x) + V_{11}(x) & V_{12}(x) \\\\ V_{21}(x) & T_R(x) + V_{22}(x)\n",
    "\\end{pmatrix}\n",
    "$$\n",
    "\n",
    "\n",
    "the $T_R$ should be written as\n",
    "$$\n",
    "T_{i i^{\\prime}}=\\frac{\\hbar^2}{2 M \\Delta x^2}(-1)^{i-i^{\\prime}}\\left\\{\\begin{array}{ll}\n",
    "\\pi^2 / 3, & i=i^{\\prime} \\\\\n",
    "\\frac{2}{\\left(i-i^{\\prime}\\right)^2}, & i \\neq i^{\\prime}\n",
    "\\end{array}\\right\\}\n",
    "$$\n",
    "where $x_i = i\\Delta x, i = 0, \\pm 1, \\pm 2$\n",
    "\n",
    "If we diagonalize the hamiltonian like $H U = UE$, then the TDSE can be solved by\n",
    "$$\n",
    "c^{DVR}(t) = exp\\left(\\frac{Ht}{i\\hbar}\\right) c^{DVR}(0)\n",
    "= U exp\\left(\\frac{Et}{i\\hbar}\\right) U^\\dagger c^{DVR}(0)\n",
    "$$\n",
    "where $c^{DVR}$ is the wave function coefficient in the DVR representation.\n"
   ]
  },
  {
   "cell_type": "markdown",
   "metadata": {},
   "source": [
    "2. Surface hopping simulation\n",
    "\n",
    "a. In this method, ions move in a classical trajectory following the Newton's Law\n",
    "$$\n",
    "F = M \\ddot{x}\n",
    "$$\n",
    "\n",
    "And the electrons propagate following the TDSE\n",
    "$$\n",
    "i \\hbar \\frac{\\partial}{\\partial t} \\Psi(r,R,t) = H_{el}(r,R) \\Psi(r,R,t) \\\\\n",
    "i \\hbar \\dot{c_i}(t) = \\sum_j \\left[ E_i^{el}(R)\\delta_{ij} - i\\hbar d_{ij} \\cdot \\dot{R} \\right] c_j(t)\n",
    "$$\n",
    "\n",
    "Solving this equation, we can use the exact diagonazation method stated above. However, since here the hamiltonian is not fixed at different time, the equation can only be solved with discrete time steps.\n",
    "\n",
    "In the $dt$ time step, electron propagates from state $i$ to state $j$ with probability\n",
    "$$\n",
    "P_{i \\to j}(t;dt) = -\\frac{2}{\\hbar} \\int_t^{t+dt} \\frac{\\mathrm{Im}[H_{ij}c_i^* c_j]}{c_i^* c_i} dt\n",
    "= 2 \\int_t^{t+dt} \\frac{\\mathrm{Re}[d_{ij} \\cdot \\dot{R} c_i^* c_j]}{c_i^* c_i} dt\n",
    "$$\n",
    "\n",
    "Surface hopping describe electron propagation with stochastic trajectories hopping between potential sufaces. The hopping probability is defined by Tully as \n",
    "$$\n",
    "g_{i \\to j}(t+dt) = \\max(0, P_{i \\to j}(t;dt))\n",
    "$$\n",
    "\n",
    "After hopping, the ion moment has to be adjusted so that the total energy can to preserved. If the total energy cannot be presevered, then the hop is rejected, which is the so-called frustrated hopping.  \n",
    "$$\n",
    "\\frac{1}{2}M \\dot{R}^2(t) + E_i(t) = \\frac{1}{2}M \\dot{R}'^2(t) + E_j(t) \\\\\n",
    "\n",
    "\\dot{R}' = \\dot{R} - \\frac{\\sigma_{ij}}{M} d_{ij} \\\\\n",
    "\n",
    "\\sigma_{ij} = \\frac{B \\pm \\sqrt{B^2 - 4A (E_i-E_j)}}{2A} \\\\\n",
    "\n",
    "A = |d_{ij}|^2 / (2M) \\\\\n",
    "\n",
    "B = \\dot{R} \\cdot d_{ij}\n",
    "$$\n",
    "$\\sigma_{ij}$ should choose the one with the smaller absoulte value.\n",
    "\n",
    "Or we can use Morte Carlo algorithm instead of velocity rescaling.\n",
    "$$\n",
    "g_{i \\to j}(t) \\to g_{i \\to j}(t) b_{i \\to j}(t) \\\\\n",
    "b_{i \\to j}(t) = \\begin{cases} exp\\left(-\\frac{E_j-E_i}{k_B T}\\right) & E_j > E_i \\\\ 1 & E_j < E_i \\end{cases}\n",
    "$$\n",
    "\n",
    "In the algorithm, electronic eigen energy, nonadiabatic counpling and force vector should be calculated on every nuclear step.  \n",
    "The (electronic) eigen energy and wavefunction\n",
    "$$\n",
    "H_{el}(x) \\psi^{ad}(x) = E_{el}(x) \\psi^{ad}(x)\n",
    "$$\n",
    "\n",
    "The nonadiabatic coupling vector\n",
    "$$\n",
    "d_{ij}(x) = -\\frac{\\langle\\psi_i^{ad} | \\nabla H_{el}(x) | \\psi_j^{ad} \\rangle}\n",
    "{E_i(x) - E_j(x)}\n",
    "$$\n",
    "\n",
    "The force vector \n",
    "$$\n",
    "F_i(x) = - \\langle\\psi_i^{ad} | \\nabla H_{el}(x) | \\psi_i^{ad} \\rangle\n",
    "$$"
   ]
  },
  {
   "cell_type": "markdown",
   "metadata": {},
   "source": [
    "```mermaid\n",
    "graph TB\n",
    "   A(ini cond)-->B;\n",
    "   B(nuclear dynamic)-->C;\n",
    "   C(wavefunc propagation)-->D;\n",
    "   D(surface hopping)-->E;\n",
    "   E(decoherence)-->F(output);\n",
    "   E-->B\n",
    "```\n"
   ]
  },
  {
   "cell_type": "markdown",
   "metadata": {},
   "source": [
    "velocity verlet algorithm (Swope, 1982)\n",
    "$$\n",
    "x(t+dt) = x(t) + v(t)dt + \\frac{1}{2}a(t)dt^2 \\\\\n",
    "v(t+dt) = v(t) + \\frac{1}{2} \\left[ a(t) + a(t+dt) \\right] dt\n",
    "$$"
   ]
  },
  {
   "cell_type": "markdown",
   "metadata": {},
   "source": [
    "3. Initial condition\n",
    "\n",
    "In the full quantum simulation, the initial wave function is chosen to be a guassian\n",
    "$$\n",
    "\\psi(x,t=0) = \\left(\\frac{1}{2\\pi \\sigma_x^2}\\right)^{1/4} \n",
    "exp\\left(-\\frac{(x-x_0)^2}{4\\sigma_x^2} + ik_0 x\n",
    "    \\right)\n",
    "$$\n",
    "\n",
    "In the surface hoping method, the initial position and moment of the ion should be randomly sampled by the wigner distibution.\n",
    "$$\n",
    "P(x,p) = N exp\\left(-\\frac{(x-x_0)^2}{2\\sigma_x^2} \\right)\n",
    "exp\\left(-\\frac{(p-p_0)^2}{2\\sigma_p^2} \\right)\n",
    "$$\n",
    "where $p_0 = \\hbar k_0$ and $\\sigma_p = \\hbar / (2\\sigma_x)$"
   ]
  },
  {
   "cell_type": "markdown",
   "metadata": {},
   "source": [
    "4. End condition\n",
    "\n",
    "For full quantum simulation, the charge density will not change when the ion leave the strongly coherent zone.\n",
    "$$\n",
    "\\rho_i(x) = |c_i(x)|^2 \\\\\n",
    "\\text{Trans. Lower} \\sum_{x>0} |\\rho_i(x,t+dt) - \\rho_i(x,t)| < \\Delta\\rho_{thres}, \\, i=0\n",
    "$$\n",
    "And make sure the wavefunction won't go out of the boundary\n",
    "$$\n",
    "\\sum_{i, |x|>x_{lim}} |\\rho_i(x,t)| < \\rho_{thres}\n",
    "$$"
   ]
  },
  {
   "cell_type": "markdown",
   "metadata": {},
   "source": [
    "5. Representation transition\n",
    "\n",
    "basis: $\\phi_i^{dia}=1_{\\times i}, \\phi_i^{ad}=U_{\\times i}$, here we assume both coefficients and basis are column vectors and the basis satisfies $\\langle\\phi_i|\\phi_j\\rangle=\\delta_{ij}, \\,\\, \\sum_i |\\phi_i\\rangle\\langle\\phi_i| = 1$\n",
    "$$\n",
    "\\Psi = \\sum_i c_i^{dia} \\phi_i^{dia} = \\sum_i c_i^{ad} \\phi_i^{ad}\n",
    "$$\n",
    "\n",
    "then, we have\n",
    "$$\n",
    "c_i^{ad} = \\sum_j c_j^{dia} \\langle\\phi_i^{ad} | \\phi_j^{dia}\\rangle\n",
    "$$"
   ]
  },
  {
   "cell_type": "markdown",
   "metadata": {},
   "source": [
    "Under Tully's convention, we use\n",
    "$$\n",
    "\\hbar = 1, \\\\\n",
    "m = 1, M = 2000, \\\\\n",
    "\\sigma_x = 10/k_0 \\\\\n",
    "\\mathrm{1 a.u. = 24.188as}\n",
    "\n",
    "$$"
   ]
  },
  {
   "cell_type": "markdown",
   "metadata": {},
   "source": [
    "References\n",
    "\n",
    "[1] J. Chem. Phys. 93, 1061–1071 (1990); https://doi.org/10.1063/1.459170\n",
    "\n",
    "[2] J. Chem. Phys. 96, 1982–1991 (1992); https://doi.org/10.1063/1.462100\n",
    "\n",
    "[3] http://staff.ustc.edu.cn/~zqj/posts/Numerical_TDSE/\n",
    "\n",
    "[4] https://github.com/amber-jain-group-iitb/Exact-QD-Python\n",
    "\n",
    "[5] https://github.com/smparker/mudslide\n",
    "\n",
    "* The code here mostly follow the structure of mudslide"
   ]
  },
  {
   "cell_type": "markdown",
   "metadata": {},
   "source": []
  }
 ],
 "metadata": {
  "kernelspec": {
   "display_name": "Python 3",
   "language": "python",
   "name": "python3"
  },
  "language_info": {
   "codemirror_mode": {
    "name": "ipython",
    "version": 3
   },
   "file_extension": ".py",
   "mimetype": "text/x-python",
   "name": "python",
   "nbconvert_exporter": "python",
   "pygments_lexer": "ipython3",
   "version": "3.9.13"
  }
 },
 "nbformat": 4,
 "nbformat_minor": 2
}
